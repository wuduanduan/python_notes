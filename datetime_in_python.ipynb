{
 "cells": [
  {
   "cell_type": "markdown",
   "metadata": {},
   "source": [
    "This notebook note frequently used operation for time related moduale in python. Including get local time, do time zone transform, and get last, latest work day."
   ]
  },
  {
   "cell_type": "markdown",
   "metadata": {},
   "source": [
    "# Time module in python"
   ]
  },
  {
   "cell_type": "code",
   "execution_count": 1,
   "metadata": {},
   "outputs": [],
   "source": [
    "import time"
   ]
  },
  {
   "cell_type": "markdown",
   "metadata": {},
   "source": [
    "## get time composition from time"
   ]
  },
  {
   "cell_type": "code",
   "execution_count": 2,
   "metadata": {},
   "outputs": [
    {
     "name": "stdout",
     "output_type": "stream",
     "text": [
      "1605869004.5881228\n",
      "Fri Nov 20 11:43:24 2020\n",
      "time.struct_time(tm_year=2020, tm_mon=11, tm_mday=20, tm_hour=11, tm_min=43, tm_sec=24, tm_wday=4, tm_yday=325, tm_isdst=0)\n"
     ]
    }
   ],
   "source": [
    "print(time.time()) # time from 00:00:00\n",
    "print(time.ctime()) # return time in timestamps\n",
    "print(time.localtime())"
   ]
  },
  {
   "cell_type": "code",
   "execution_count": 3,
   "metadata": {},
   "outputs": [
    {
     "data": {
      "text/plain": [
       "time.struct_time(tm_year=2020, tm_mon=11, tm_mday=20, tm_hour=11, tm_min=43, tm_sec=24, tm_wday=4, tm_yday=325, tm_isdst=-1)"
      ]
     },
     "execution_count": 3,
     "metadata": {},
     "output_type": "execute_result"
    }
   ],
   "source": [
    "#.strftime change a time to struct_time\n",
    "time.strptime(time.ctime())"
   ]
  },
  {
   "cell_type": "markdown",
   "metadata": {},
   "source": [
    "## time.sleep(secs), time.clock()"
   ]
  },
  {
   "cell_type": "code",
   "execution_count": 4,
   "metadata": {},
   "outputs": [
    {
     "name": "stdout",
     "output_type": "stream",
     "text": [
      "before sleep: Fri Nov 20 11:43:24 2020\n",
      "after sleep: Fri Nov 20 11:43:27 2020\n"
     ]
    }
   ],
   "source": [
    "print('before sleep:', time.ctime())\n",
    "time.sleep(3)\n",
    "print('after sleep:', time.ctime())"
   ]
  },
  {
   "cell_type": "markdown",
   "metadata": {},
   "source": [
    "# Datetime  module in Python"
   ]
  },
  {
   "cell_type": "code",
   "execution_count": 5,
   "metadata": {},
   "outputs": [],
   "source": [
    "import datetime"
   ]
  },
  {
   "cell_type": "markdown",
   "metadata": {},
   "source": [
    "## Get time composition from date object"
   ]
  },
  {
   "cell_type": "code",
   "execution_count": 6,
   "metadata": {},
   "outputs": [
    {
     "name": "stdout",
     "output_type": "stream",
     "text": [
      "today: 2020-11-20\n",
      "today.month: 11\n",
      "today.year: 2020\n",
      "today.weekday 4\n",
      "today.isoweekday 5\n",
      "today.isocalendar (2020, 47, 5)\n"
     ]
    }
   ],
   "source": [
    "today = datetime.date.today()\n",
    "print('today:', today)\n",
    "print('today.month:', today.month)\n",
    "print('today.year:', today.year)\n",
    "print('today.weekday', today.weekday()) # attention, this gives weekday of yesterday \n",
    "print('today.isoweekday', today.isoweekday()) # this gives weekday of today\n",
    "\n",
    "print('today.isocalendar', today.isocalendar()) # return format (year, week number, weekday)\n"
   ]
  },
  {
   "cell_type": "markdown",
   "metadata": {},
   "source": [
    "## Parsing time from char\n",
    "using \"dateutil\" package (seems to be a defaut package)"
   ]
  },
  {
   "cell_type": "code",
   "execution_count": 7,
   "metadata": {},
   "outputs": [],
   "source": [
    "from dateutil import parser"
   ]
  },
  {
   "cell_type": "code",
   "execution_count": 8,
   "metadata": {},
   "outputs": [
    {
     "name": "stdout",
     "output_type": "stream",
     "text": [
      "2001-11-20 00:00:00\n",
      "2020-11-20 00:00:00\n",
      "2020-09-20 00:00:00\n",
      "2020-11-08 00:00:00\n",
      "2001-01-01 00:00:00\n"
     ]
    }
   ],
   "source": [
    "# All not specified time component is set to be the latest value to \"now\"\n",
    "print(parser.parse(\"Nov 20th, 2001\"))\n",
    "print(parser.parse(\"Nov 20\")) \n",
    "print(parser.parse(\"2020,14,09\")) # ambiguous format \n",
    "print(parser.parse(\"08,14\")) # this format has parsing problem\n",
    "print(parser.parse(\"20010101\"))"
   ]
  },
  {
   "cell_type": "markdown",
   "metadata": {},
   "source": [
    "## Change time zone"
   ]
  },
  {
   "cell_type": "code",
   "execution_count": 9,
   "metadata": {},
   "outputs": [],
   "source": [
    "import pytz # python time zone package"
   ]
  },
  {
   "cell_type": "code",
   "execution_count": 10,
   "metadata": {},
   "outputs": [
    {
     "name": "stdout",
     "output_type": "stream",
     "text": [
      "['Asia/Shanghai', 'Asia/Urumqi']\n",
      "2020-11-20 18:43:27.892495+08:00\n"
     ]
    }
   ],
   "source": [
    "print(pytz.country_timezones(\"cn\"))\n",
    "beijing = pytz.timezone(pytz.country_timezones(\"cn\")[0])\n",
    "print(datetime.datetime.now(beijing))"
   ]
  },
  {
   "cell_type": "code",
   "execution_count": 11,
   "metadata": {},
   "outputs": [
    {
     "data": {
      "text/plain": [
       "<DstTzInfo 'Europe/Paris' LMT+0:09:00 STD>"
      ]
     },
     "execution_count": 11,
     "metadata": {},
     "output_type": "execute_result"
    }
   ],
   "source": [
    "pytz.timezone(pytz.country_timezones(\"fr\")[0])"
   ]
  },
  {
   "cell_type": "code",
   "execution_count": 12,
   "metadata": {},
   "outputs": [
    {
     "name": "stdout",
     "output_type": "stream",
     "text": [
      "Bejing time now:  2020-11-20 18:43:27.930467+08:00 \n",
      "\n",
      "UTC hours for Beijing: 2020-11-20 10:43:27.930467+00:00\n",
      "Paris hours for Beijing: 2020-11-20 11:43:27.930467+01:00\n"
     ]
    }
   ],
   "source": [
    "# use astimezone can change from one timezone to another\n",
    "utc = pytz.utc\n",
    "paris = pytz.timezone('Europe/Paris')\n",
    "now = datetime.datetime.now(beijing)\n",
    "print('Bejing time now: ', now, '\\n')\n",
    "\n",
    "# change beijing time now to utc and to paris time\n",
    "print(\"UTC hours for Beijing:\", now.astimezone(utc))\n",
    "print(\"Paris hours for Beijing:\", now.astimezone(paris))"
   ]
  },
  {
   "cell_type": "markdown",
   "metadata": {},
   "source": [
    "Remark that astimezone() gives at the end +xx:00, with xx indicates the timezone. This has already considered the daily shifting time."
   ]
  },
  {
   "cell_type": "code",
   "execution_count": 13,
   "metadata": {},
   "outputs": [
    {
     "data": {
      "text/plain": [
       "11"
      ]
     },
     "execution_count": 13,
     "metadata": {},
     "output_type": "execute_result"
    }
   ],
   "source": [
    "now.astimezone(paris).month"
   ]
  },
  {
   "cell_type": "markdown",
   "metadata": {},
   "source": [
    "## Workday"
   ]
  },
  {
   "cell_type": "code",
   "execution_count": 14,
   "metadata": {},
   "outputs": [
    {
     "data": {
      "text/plain": [
       "datetime.datetime(2020, 11, 19, 11, 43, 27, 982125)"
      ]
     },
     "execution_count": 14,
     "metadata": {},
     "output_type": "execute_result"
    }
   ],
   "source": [
    "# get last business day, not direct to see\n",
    "lastBusDay = datetime.datetime.today()\n",
    "shift = datetime.timedelta(max(1, (lastBusDay.weekday() + 6)%7 - 3)) # not very fond of this expression\n",
    "lastBusDay = lastBusDay - shift\n",
    "lastBusDay"
   ]
  },
  {
   "cell_type": "code",
   "execution_count": 15,
   "metadata": {},
   "outputs": [
    {
     "data": {
      "text/plain": [
       "datetime.datetime(2020, 11, 19, 11, 43, 28, 24610)"
      ]
     },
     "execution_count": 15,
     "metadata": {},
     "output_type": "execute_result"
    }
   ],
   "source": [
    "# get last business day, my version\n",
    "yesterday = datetime.datetime.today() - datetime.timedelta(1)\n",
    "shift = datetime.timedelta(max(0, yesterday.weekday() - 5))\n",
    "lastBusDay = yesterday - shift\n",
    "lastBusDay"
   ]
  },
  {
   "cell_type": "code",
   "execution_count": 16,
   "metadata": {},
   "outputs": [
    {
     "data": {
      "text/plain": [
       "datetime.datetime(2020, 11, 20, 11, 43, 28, 49342)"
      ]
     },
     "execution_count": 16,
     "metadata": {},
     "output_type": "execute_result"
    }
   ],
   "source": [
    "# get latest workdays (includes today)\n",
    "lastestBusDay = datetime.datetime.today()\n",
    "shift = datetime.timedelta(max(0, lastestBusDay.weekday() - 5))\n",
    "lastestBusDay = lastestBusDay - shift\n",
    "lastestBusDay"
   ]
  },
  {
   "cell_type": "code",
   "execution_count": null,
   "metadata": {},
   "outputs": [],
   "source": []
  }
 ],
 "metadata": {
  "kernelspec": {
   "display_name": "Python 3",
   "language": "python",
   "name": "python3"
  },
  "language_info": {
   "codemirror_mode": {
    "name": "ipython",
    "version": 3
   },
   "file_extension": ".py",
   "mimetype": "text/x-python",
   "name": "python",
   "nbconvert_exporter": "python",
   "pygments_lexer": "ipython3",
   "version": "3.7.0"
  },
  "toc": {
   "base_numbering": 1,
   "nav_menu": {},
   "number_sections": true,
   "sideBar": true,
   "skip_h1_title": false,
   "title_cell": "Table of Contents",
   "title_sidebar": "Contents",
   "toc_cell": false,
   "toc_position": {},
   "toc_section_display": true,
   "toc_window_display": false
  }
 },
 "nbformat": 4,
 "nbformat_minor": 2
}
